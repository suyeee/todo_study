{
 "cells": [
  {
   "cell_type": "markdown",
   "id": "documentary-acrylic",
   "metadata": {},
   "source": [
    "뉴욕 택시 데이터 활용\n",
    "- `fhvhv_tripdata_2020-03.csv` : 2020년 3월 뉴욕 택시 데이터\n",
    "    - `hvfhs_license_num` : 택시회사 ID(뉴욕 택시, 우버 등등)\n",
    "    - `dispatching_base_num` : 택시 회사별 고유 택시 ID\n",
    "    - `pickup_datetime` :  승객을 태운 시간\n",
    "    - `dropoff_datetime` :  승객이 하차한 시간\n",
    "    - `PULocationID` : 승객이 승차한 지역 ID\n",
    "    - `DOLocationID` : 승객이 하차한 지역 ID"
   ]
  },
  {
   "cell_type": "code",
   "execution_count": 1,
   "id": "spatial-heart",
   "metadata": {},
   "outputs": [],
   "source": [
    "from pyspark.sql import SparkSession\n",
    "\n",
    "spark = SparkSession.builder.appName(\"trip_count_sql\").getOrCreate()"
   ]
  },
  {
   "cell_type": "code",
   "execution_count": 2,
   "id": "anonymous-boxing",
   "metadata": {},
   "outputs": [],
   "source": [
    "directory = \"/home/lab26/SparkCourse/data\"\n",
    "filename = \"fhvhv_tripdata_2020-03.csv\""
   ]
  },
  {
   "cell_type": "code",
   "execution_count": 3,
   "id": "cleared-phrase",
   "metadata": {},
   "outputs": [
    {
     "name": "stdout",
     "output_type": "stream",
     "text": [
      "+-----------------+--------------------+-------------------+-------------------+------------+------------+-------+\n",
      "|hvfhs_license_num|dispatching_base_num|    pickup_datetime|   dropoff_datetime|PULocationID|DOLocationID|SR_Flag|\n",
      "+-----------------+--------------------+-------------------+-------------------+------------+------------+-------+\n",
      "|           HV0005|              B02510|2020-03-01 00:03:40|2020-03-01 00:23:39|          81|         159|   null|\n",
      "|           HV0005|              B02510|2020-03-01 00:28:05|2020-03-01 00:38:57|         168|         119|   null|\n",
      "|           HV0003|              B02764|2020-03-01 00:03:07|2020-03-01 00:15:04|         137|         209|      1|\n",
      "|           HV0003|              B02764|2020-03-01 00:18:42|2020-03-01 00:38:42|         209|          80|   null|\n",
      "|           HV0003|              B02764|2020-03-01 00:44:24|2020-03-01 00:58:44|         256|         226|   null|\n",
      "+-----------------+--------------------+-------------------+-------------------+------------+------------+-------+\n",
      "only showing top 5 rows\n",
      "\n"
     ]
    }
   ],
   "source": [
    "datas = spark.read.csv(f\"file:///{directory}/{filename}\", inferSchema = True, header=True)\n",
    "datas.show(5)"
   ]
  },
  {
   "cell_type": "code",
   "execution_count": 4,
   "id": "funky-liberal",
   "metadata": {},
   "outputs": [],
   "source": [
    "datas.createOrReplaceTempView(\"mobility_data\")"
   ]
  },
  {
   "cell_type": "code",
   "execution_count": 8,
   "id": "understanding-article",
   "metadata": {},
   "outputs": [
    {
     "name": "stdout",
     "output_type": "stream",
     "text": [
      "+-----------------+--------------------+-------------------+-------------------+------------+------------+-------+\n",
      "|hvfhs_license_num|dispatching_base_num|    pickup_datetime|   dropoff_datetime|PULocationID|DOLocationID|SR_Flag|\n",
      "+-----------------+--------------------+-------------------+-------------------+------------+------------+-------+\n",
      "|           HV0005|              B02510|2020-03-01 00:03:40|2020-03-01 00:23:39|          81|         159|   null|\n",
      "|           HV0005|              B02510|2020-03-01 00:28:05|2020-03-01 00:38:57|         168|         119|   null|\n",
      "|           HV0003|              B02764|2020-03-01 00:03:07|2020-03-01 00:15:04|         137|         209|      1|\n",
      "|           HV0003|              B02764|2020-03-01 00:18:42|2020-03-01 00:38:42|         209|          80|   null|\n",
      "|           HV0003|              B02764|2020-03-01 00:44:24|2020-03-01 00:58:44|         256|         226|   null|\n",
      "+-----------------+--------------------+-------------------+-------------------+------------+------------+-------+\n",
      "\n"
     ]
    }
   ],
   "source": [
    "query=\"\"\"\n",
    "select *\n",
    "from mobility_data\n",
    "limit 5\n",
    "\"\"\"\n",
    "\n",
    "spark.sql(query).show()"
   ]
  },
  {
   "cell_type": "code",
   "execution_count": 12,
   "id": "proud-reserve",
   "metadata": {},
   "outputs": [
    {
     "name": "stdout",
     "output_type": "stream",
     "text": [
      "+-----------+------+\n",
      "|pickup_date| trips|\n",
      "+-----------+------+\n",
      "| 2020-03-03|697880|\n",
      "| 2020-03-06|872012|\n",
      "| 2020-03-05|731165|\n",
      "| 2020-03-02|648986|\n",
      "| 2020-03-04|707879|\n",
      "| 2020-03-10|592727|\n",
      "| 2020-03-01|784246|\n",
      "| 2020-03-09|628940|\n",
      "| 2020-03-08|731222|\n",
      "| 2020-03-07|886071|\n",
      "+-----------+------+\n",
      "\n"
     ]
    }
   ],
   "source": [
    "# 승차 년-월-일 별로 카운트 세기\n",
    "query=\"\"\"\n",
    "select pickup_date, count(*) as trips\n",
    "\n",
    "from (select split(pickup_datetime,' ')[0] as pickup_date\n",
    "      from mobility_data)\n",
    "\n",
    "group by pickup_date\n",
    "\"\"\"\n",
    "\n",
    "spark.sql(query).show()"
   ]
  },
  {
   "cell_type": "code",
   "execution_count": 13,
   "id": "applied-overall",
   "metadata": {},
   "outputs": [
    {
     "name": "stdout",
     "output_type": "stream",
     "text": [
      "== Parsed Logical Plan ==\n",
      "'Aggregate ['pickup_date], ['pickup_date, 'count(1) AS trips#218]\n",
      "+- 'SubqueryAlias __auto_generated_subquery_name\n",
      "   +- 'Project ['split('pickup_datetime,  )[0] AS pickup_date#217]\n",
      "      +- 'UnresolvedRelation [mobility_data], [], false\n",
      "\n",
      "== Analyzed Logical Plan ==\n",
      "pickup_date: string, trips: bigint\n",
      "Aggregate [pickup_date#217], [pickup_date#217, count(1) AS trips#218L]\n",
      "+- SubqueryAlias __auto_generated_subquery_name\n",
      "   +- Project [split(pickup_datetime#18,  , -1)[0] AS pickup_date#217]\n",
      "      +- SubqueryAlias mobility_data\n",
      "         +- Relation[hvfhs_license_num#16,dispatching_base_num#17,pickup_datetime#18,dropoff_datetime#19,PULocationID#20,DOLocationID#21,SR_Flag#22] csv\n",
      "\n",
      "== Optimized Logical Plan ==\n",
      "Aggregate [pickup_date#217], [pickup_date#217, count(1) AS trips#218L]\n",
      "+- Project [split(pickup_datetime#18,  , -1)[0] AS pickup_date#217]\n",
      "   +- Relation[hvfhs_license_num#16,dispatching_base_num#17,pickup_datetime#18,dropoff_datetime#19,PULocationID#20,DOLocationID#21,SR_Flag#22] csv\n",
      "\n",
      "== Physical Plan ==\n",
      "*(2) HashAggregate(keys=[pickup_date#217], functions=[count(1)], output=[pickup_date#217, trips#218L])\n",
      "+- Exchange hashpartitioning(pickup_date#217, 200), ENSURE_REQUIREMENTS, [id=#197]\n",
      "   +- *(1) HashAggregate(keys=[pickup_date#217], functions=[partial_count(1)], output=[pickup_date#217, count#223L])\n",
      "      +- *(1) Project [split(pickup_datetime#18,  , -1)[0] AS pickup_date#217]\n",
      "         +- FileScan csv [pickup_datetime#18] Batched: false, DataFilters: [], Format: CSV, Location: InMemoryFileIndex[file:/home/lab26/SparkCourse/data/fhvhv_tripdata_2020-03.csv], PartitionFilters: [], PushedFilters: [], ReadSchema: struct<pickup_datetime:string>\n",
      "\n"
     ]
    }
   ],
   "source": [
    "# 실행계획 살펴보기\n",
    "spark.sql(query).explain(True)"
   ]
  },
  {
   "cell_type": "code",
   "execution_count": 14,
   "id": "greenhouse-referral",
   "metadata": {},
   "outputs": [],
   "source": [
    "zone_file = \"taxi+_zone_lookup.csv\""
   ]
  },
  {
   "cell_type": "code",
   "execution_count": 15,
   "id": "occupied-vehicle",
   "metadata": {},
   "outputs": [
    {
     "name": "stdout",
     "output_type": "stream",
     "text": [
      "+----------+-------------+--------------------+------------+\n",
      "|LocationID|      Borough|                Zone|service_zone|\n",
      "+----------+-------------+--------------------+------------+\n",
      "|         1|          EWR|      Newark Airport|         EWR|\n",
      "|         2|       Queens|         Jamaica Bay|   Boro Zone|\n",
      "|         3|        Bronx|Allerton/Pelham G...|   Boro Zone|\n",
      "|         4|    Manhattan|       Alphabet City| Yellow Zone|\n",
      "|         5|Staten Island|       Arden Heights|   Boro Zone|\n",
      "+----------+-------------+--------------------+------------+\n",
      "only showing top 5 rows\n",
      "\n"
     ]
    }
   ],
   "source": [
    "zone_data = spark.read.csv(f\"file:///{directory}/{zone_file}\", inferSchema = True, header=True)\n",
    "zone_data.show(5)"
   ]
  },
  {
   "cell_type": "code",
   "execution_count": 16,
   "id": "valid-franchise",
   "metadata": {},
   "outputs": [],
   "source": [
    "zone_data.createOrReplaceTempView(\"zone_data\")"
   ]
  },
  {
   "cell_type": "code",
   "execution_count": 18,
   "id": "phantom-aside",
   "metadata": {},
   "outputs": [
    {
     "name": "stdout",
     "output_type": "stream",
     "text": [
      "+-------------+-------+\n",
      "|      borough|  trips|\n",
      "+-------------+-------+\n",
      "|       Queens|1284141|\n",
      "|          EWR|    239|\n",
      "|      Unknown|    452|\n",
      "|     Brooklyn|1947344|\n",
      "|Staten Island|  90582|\n",
      "|    Manhattan|3005030|\n",
      "|        Bronx| 953340|\n",
      "+-------------+-------+\n",
      "\n"
     ]
    }
   ],
   "source": [
    "query=\"\"\"\n",
    "select borough, count(*) as trips\n",
    "from (select zone_data.Borough as borough\n",
    "      from mobility_data\n",
    "      join zone_data on mobility_data.PULocationID = zone_data.LocationID)\n",
    "group by borough\n",
    "\"\"\"\n",
    "\n",
    "spark.sql(query).show()"
   ]
  },
  {
   "cell_type": "code",
   "execution_count": 19,
   "id": "falling-ottawa",
   "metadata": {},
   "outputs": [
    {
     "name": "stdout",
     "output_type": "stream",
     "text": [
      "+-------------+-------+\n",
      "|      borough|  trips|\n",
      "+-------------+-------+\n",
      "|       Queens| 984782|\n",
      "|          EWR|      2|\n",
      "|      Unknown|    319|\n",
      "|     Brooklyn|1451704|\n",
      "|Staten Island|  76464|\n",
      "|    Manhattan|1977260|\n",
      "|        Bronx| 813495|\n",
      "+-------------+-------+\n",
      "\n"
     ]
    }
   ],
   "source": [
    "# 택시회사 하나만 지정해서 보기\n",
    "query=\"\"\"\n",
    "select borough, count(*) as trips\n",
    "from (select zone_data.Borough as borough\n",
    "      from mobility_data\n",
    "      join zone_data on mobility_data.PULocationID = zone_data.LocationID\n",
    "      where mobility_data.hvfhs_license_num='HV0003')\n",
    "      \n",
    "group by borough\n",
    "\"\"\"\n",
    "\n",
    "spark.sql(query).show()"
   ]
  },
  {
   "cell_type": "code",
   "execution_count": 20,
   "id": "competent-validation",
   "metadata": {},
   "outputs": [
    {
     "name": "stdout",
     "output_type": "stream",
     "text": [
      "== Parsed Logical Plan ==\n",
      "'Aggregate ['borough], ['borough, 'count(1) AS trips#319]\n",
      "+- 'SubqueryAlias __auto_generated_subquery_name\n",
      "   +- 'Project ['zone_data.Borough AS borough#318]\n",
      "      +- 'Filter ('mobility_data.hvfhs_license_num = HV0003)\n",
      "         +- 'Join Inner, ('mobility_data.PULocationID = 'zone_data.LocationID)\n",
      "            :- 'UnresolvedRelation [mobility_data], [], false\n",
      "            +- 'UnresolvedRelation [zone_data], [], false\n",
      "\n",
      "== Analyzed Logical Plan ==\n",
      "borough: string, trips: bigint\n",
      "Aggregate [borough#318], [borough#318, count(1) AS trips#319L]\n",
      "+- SubqueryAlias __auto_generated_subquery_name\n",
      "   +- Project [Borough#241 AS borough#318]\n",
      "      +- Filter (hvfhs_license_num#16 = HV0003)\n",
      "         +- Join Inner, (PULocationID#20 = LocationID#240)\n",
      "            :- SubqueryAlias mobility_data\n",
      "            :  +- Relation[hvfhs_license_num#16,dispatching_base_num#17,pickup_datetime#18,dropoff_datetime#19,PULocationID#20,DOLocationID#21,SR_Flag#22] csv\n",
      "            +- SubqueryAlias zone_data\n",
      "               +- Relation[LocationID#240,Borough#241,Zone#242,service_zone#243] csv\n",
      "\n",
      "== Optimized Logical Plan ==\n",
      "Aggregate [borough#318], [borough#318, count(1) AS trips#319L]\n",
      "+- Project [Borough#241 AS borough#318]\n",
      "   +- Join Inner, (PULocationID#20 = LocationID#240)\n",
      "      :- Project [PULocationID#20]\n",
      "      :  +- Filter ((isnotnull(hvfhs_license_num#16) AND (hvfhs_license_num#16 = HV0003)) AND isnotnull(PULocationID#20))\n",
      "      :     +- Relation[hvfhs_license_num#16,dispatching_base_num#17,pickup_datetime#18,dropoff_datetime#19,PULocationID#20,DOLocationID#21,SR_Flag#22] csv\n",
      "      +- Project [LocationID#240, Borough#241]\n",
      "         +- Filter isnotnull(LocationID#240)\n",
      "            +- Relation[LocationID#240,Borough#241,Zone#242,service_zone#243] csv\n",
      "\n",
      "== Physical Plan ==\n",
      "*(3) HashAggregate(keys=[borough#318], functions=[count(1)], output=[borough#318, trips#319L])\n",
      "+- Exchange hashpartitioning(borough#318, 200), ENSURE_REQUIREMENTS, [id=#457]\n",
      "   +- *(2) HashAggregate(keys=[borough#318], functions=[partial_count(1)], output=[borough#318, count#324L])\n",
      "      +- *(2) Project [Borough#241 AS borough#318]\n",
      "         +- *(2) BroadcastHashJoin [PULocationID#20], [LocationID#240], Inner, BuildRight, false\n",
      "            :- *(2) Project [PULocationID#20]\n",
      "            :  +- *(2) Filter ((isnotnull(hvfhs_license_num#16) AND (hvfhs_license_num#16 = HV0003)) AND isnotnull(PULocationID#20))\n",
      "            :     +- FileScan csv [hvfhs_license_num#16,PULocationID#20] Batched: false, DataFilters: [isnotnull(hvfhs_license_num#16), (hvfhs_license_num#16 = HV0003), isnotnull(PULocationID#20)], Format: CSV, Location: InMemoryFileIndex[file:/home/lab26/SparkCourse/data/fhvhv_tripdata_2020-03.csv], PartitionFilters: [], PushedFilters: [IsNotNull(hvfhs_license_num), EqualTo(hvfhs_license_num,HV0003), IsNotNull(PULocationID)], ReadSchema: struct<hvfhs_license_num:string,PULocationID:int>\n",
      "            +- BroadcastExchange HashedRelationBroadcastMode(List(cast(input[0, int, false] as bigint)),false), [id=#451]\n",
      "               +- *(1) Filter isnotnull(LocationID#240)\n",
      "                  +- FileScan csv [LocationID#240,Borough#241] Batched: false, DataFilters: [isnotnull(LocationID#240)], Format: CSV, Location: InMemoryFileIndex[file:/home/lab26/SparkCourse/data/taxi+_zone_lookup.csv], PartitionFilters: [], PushedFilters: [IsNotNull(LocationID)], ReadSchema: struct<LocationID:int,Borough:string>\n",
      "\n"
     ]
    }
   ],
   "source": [
    "# 실행계획 살펴보기\n",
    "spark.sql(query).explain(True)"
   ]
  },
  {
   "cell_type": "code",
   "execution_count": 21,
   "id": "impossible-cattle",
   "metadata": {},
   "outputs": [],
   "source": [
    "spark.stop()"
   ]
  },
  {
   "cell_type": "code",
   "execution_count": null,
   "id": "hydraulic-geography",
   "metadata": {},
   "outputs": [],
   "source": []
  }
 ],
 "metadata": {
  "kernelspec": {
   "display_name": "Python 3",
   "language": "python",
   "name": "python3"
  },
  "language_info": {
   "codemirror_mode": {
    "name": "ipython",
    "version": 3
   },
   "file_extension": ".py",
   "mimetype": "text/x-python",
   "name": "python",
   "nbconvert_exporter": "python",
   "pygments_lexer": "ipython3",
   "version": "3.7.10"
  }
 },
 "nbformat": 4,
 "nbformat_minor": 5
}
