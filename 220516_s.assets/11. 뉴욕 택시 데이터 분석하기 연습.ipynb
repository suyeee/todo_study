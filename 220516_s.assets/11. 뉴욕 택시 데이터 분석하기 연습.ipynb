{
 "cells": [
  {
   "cell_type": "code",
   "execution_count": 1,
   "id": "devoted-receptor",
   "metadata": {},
   "outputs": [],
   "source": [
    "from pyspark.sql import SparkSession\n",
    "spark = SparkSession.builder.appName(\"trip_count_sql\").getOrCreate()"
   ]
  },
  {
   "cell_type": "code",
   "execution_count": 2,
   "id": "representative-radical",
   "metadata": {},
   "outputs": [],
   "source": [
    "# 데이터 디렉토리, 파일 이름 설정\n",
    "directory = \"/home/lab26/SparkCourse/data\"\n",
    "trip_files=\"/trips/*\" # trips 폴더에 들어있는 모든 파일\n",
    "zone_file= \"taxi+_zone_lookup.csv\""
   ]
  },
  {
   "cell_type": "code",
   "execution_count": 3,
   "id": "impressive-sessions",
   "metadata": {},
   "outputs": [],
   "source": [
    "trips_df = spark.read.csv(f\"file:///{directory}/{trip_files}\", inferSchema=True, header=True)\n",
    "zone_df = spark.read.csv(f\"file:///{directory}/{zone_file}\", inferSchema=True, header=True)"
   ]
  },
  {
   "cell_type": "code",
   "execution_count": 4,
   "id": "nutritional-palestine",
   "metadata": {},
   "outputs": [
    {
     "name": "stdout",
     "output_type": "stream",
     "text": [
      "root\n",
      " |-- VendorID: integer (nullable = true)\n",
      " |-- tpep_pickup_datetime: string (nullable = true)\n",
      " |-- tpep_dropoff_datetime: string (nullable = true)\n",
      " |-- passenger_count: integer (nullable = true)\n",
      " |-- trip_distance: double (nullable = true)\n",
      " |-- RatecodeID: integer (nullable = true)\n",
      " |-- store_and_fwd_flag: string (nullable = true)\n",
      " |-- PULocationID: integer (nullable = true)\n",
      " |-- DOLocationID: integer (nullable = true)\n",
      " |-- payment_type: integer (nullable = true)\n",
      " |-- fare_amount: double (nullable = true)\n",
      " |-- extra: double (nullable = true)\n",
      " |-- mta_tax: double (nullable = true)\n",
      " |-- tip_amount: double (nullable = true)\n",
      " |-- tolls_amount: double (nullable = true)\n",
      " |-- improvement_surcharge: double (nullable = true)\n",
      " |-- total_amount: double (nullable = true)\n",
      " |-- congestion_surcharge: double (nullable = true)\n",
      "\n",
      "root\n",
      " |-- LocationID: integer (nullable = true)\n",
      " |-- Borough: string (nullable = true)\n",
      " |-- Zone: string (nullable = true)\n",
      " |-- service_zone: string (nullable = true)\n",
      "\n"
     ]
    }
   ],
   "source": [
    "trips_df.printSchema()\n",
    "zone_df.printSchema()"
   ]
  },
  {
   "cell_type": "code",
   "execution_count": 5,
   "id": "standing-penguin",
   "metadata": {},
   "outputs": [],
   "source": [
    "trips_df.createOrReplaceTempView(\"trips\")\n",
    "zone_df.createOrReplaceTempView(\"zone\")"
   ]
  },
  {
   "cell_type": "markdown",
   "id": "alternate-violation",
   "metadata": {},
   "source": [
    "`DataLake` -> `Data Warehouse`"
   ]
  },
  {
   "cell_type": "code",
   "execution_count": 6,
   "id": "previous-celebrity",
   "metadata": {},
   "outputs": [],
   "source": [
    "# trips_df와 zone_df를 합친 새로운 DataFrame 만들어주기 (Warehouse)\n",
    "\n",
    "query = \"\"\"\n",
    "select\n",
    "    t.VendorID as vendor_id,\n",
    "    TO_DATE(t.tpep_pickup_datetime) as pickup_date,\n",
    "    TO_DATE(t.tpep_dropoff_datetime) as dropoff_date,\n",
    "    HOUR(t.tpep_pickup_datetime) as pickup_time,\n",
    "    HOUR(t.tpep_dropoff_datetime) as dropoff_time,\n",
    "    \n",
    "    t.passenger_count,\n",
    "    t.trip_distance,\n",
    "    t.fare_amount,\n",
    "    t.tip_amount,\n",
    "    t.tolls_amount,\n",
    "    t.total_amount,\n",
    "    t.payment_type,\n",
    "    \n",
    "    pz.Zone as pickup_zone,\n",
    "    dz.Zone as dropoff_zone\n",
    "\n",
    "from trips t\n",
    "left join\n",
    "    zone pz\n",
    "on t.PULocationID = pz.LocationID\n",
    "left join\n",
    "    zone dz\n",
    "on t.DOLocationID = dz.LocationID\n",
    "\"\"\"\n",
    "\n",
    "comb_df = spark.sql(query)\n",
    "comb_df.createOrReplaceTempView(\"comb\")"
   ]
  },
  {
   "cell_type": "code",
   "execution_count": 7,
   "id": "disturbed-ordering",
   "metadata": {},
   "outputs": [
    {
     "name": "stdout",
     "output_type": "stream",
     "text": [
      "+-----------+-----------+\n",
      "|pickup_date|pickup_time|\n",
      "+-----------+-----------+\n",
      "| 2021-02-28|         23|\n",
      "| 2021-02-28|         23|\n",
      "| 2021-02-28|         23|\n",
      "| 2021-02-28|         23|\n",
      "| 2021-02-28|         23|\n",
      "| 2021-02-28|         23|\n",
      "| 2021-02-28|         23|\n",
      "| 2021-03-01|         22|\n",
      "| 2021-03-01|          1|\n",
      "| 2021-03-01|          1|\n",
      "| 2021-03-01|          1|\n",
      "| 2021-03-01|          1|\n",
      "| 2021-03-01|          1|\n",
      "| 2021-03-01|          1|\n",
      "| 2021-03-01|          1|\n",
      "| 2021-03-01|          1|\n",
      "| 2021-03-01|          1|\n",
      "| 2021-03-01|          1|\n",
      "| 2021-03-01|          1|\n",
      "| 2021-03-01|          1|\n",
      "+-----------+-----------+\n",
      "only showing top 20 rows\n",
      "\n"
     ]
    }
   ],
   "source": [
    "query = \"\"\"\n",
    "select pickup_date, pickup_time\n",
    "from comb\n",
    "where pickup_time > 0\n",
    "\"\"\"\n",
    "\n",
    "spark.sql(query).show()"
   ]
  },
  {
   "cell_type": "code",
   "execution_count": 8,
   "id": "suspected-poster",
   "metadata": {},
   "outputs": [
    {
     "name": "stdout",
     "output_type": "stream",
     "text": [
      "+-----------+-----------+\n",
      "|pickup_date|pickup_time|\n",
      "+-----------+-----------+\n",
      "| 2009-01-01|          0|\n",
      "| 2008-12-31|         23|\n",
      "| 2009-01-01|          0|\n",
      "| 2009-01-01|          0|\n",
      "| 2009-01-01|          0|\n",
      "| 2009-01-01|          0|\n",
      "| 2009-01-01|          0|\n",
      "| 2009-01-01|          1|\n",
      "| 2009-01-01|          0|\n",
      "| 2008-12-31|         23|\n",
      "| 2008-12-31|         23|\n",
      "| 2008-12-31|         23|\n",
      "| 2008-12-31|         23|\n",
      "| 2009-01-01|          0|\n",
      "| 2009-01-01|          0|\n",
      "| 2009-01-01|          0|\n",
      "| 2009-01-01|         16|\n",
      "| 2009-01-01|         16|\n",
      "| 2009-01-01|          0|\n",
      "| 2009-01-01|          0|\n",
      "+-----------+-----------+\n",
      "only showing top 20 rows\n",
      "\n"
     ]
    }
   ],
   "source": [
    "query = \"\"\"\n",
    "select pickup_date, pickup_time\n",
    "from comb\n",
    "where pickup_date < '2020-12-31' \n",
    "\"\"\"\n",
    "\n",
    "spark.sql(query).show()"
   ]
  },
  {
   "cell_type": "markdown",
   "id": "forward-exhibition",
   "metadata": {},
   "source": [
    "**정제 작업**"
   ]
  },
  {
   "cell_type": "markdown",
   "id": "standard-intellectual",
   "metadata": {},
   "source": [
    "### 요금 (`total_amount`) 확인"
   ]
  },
  {
   "cell_type": "code",
   "execution_count": 9,
   "id": "greenhouse-burlington",
   "metadata": {},
   "outputs": [
    {
     "name": "stdout",
     "output_type": "stream",
     "text": [
      "+-------+-----------------+\n",
      "|summary|     total_amount|\n",
      "+-------+-----------------+\n",
      "|  count|         15000700|\n",
      "|   mean|18.75545205708744|\n",
      "| stddev|145.7442452805979|\n",
      "|    min|           -647.8|\n",
      "|    max|         398469.2|\n",
      "+-------+-----------------+\n",
      "\n"
     ]
    }
   ],
   "source": [
    "# 요금 확인\n",
    "comb_df.select(\"total_amount\").describe().show()"
   ]
  },
  {
   "cell_type": "markdown",
   "id": "ignored-diabetes",
   "metadata": {},
   "source": [
    "음수값 존재.. 택시비가 음수?"
   ]
  },
  {
   "cell_type": "code",
   "execution_count": 10,
   "id": "specified-nutrition",
   "metadata": {},
   "outputs": [
    {
     "name": "stdout",
     "output_type": "stream",
     "text": [
      "+-------+-----------------+\n",
      "|summary|    trip_distance|\n",
      "+-------+-----------------+\n",
      "|  count|         15000700|\n",
      "|   mean|6.628629402627818|\n",
      "| stddev|671.7293482115828|\n",
      "|    min|              0.0|\n",
      "|    max|        332541.19|\n",
      "+-------+-----------------+\n",
      "\n"
     ]
    }
   ],
   "source": [
    "# 운행 거리 확인\n",
    "comb_df.select(\"trip_distance\").describe().show()"
   ]
  },
  {
   "cell_type": "markdown",
   "id": "retired-aruba",
   "metadata": {},
   "source": [
    "min 이 0.0인 데이터가 있음"
   ]
  },
  {
   "cell_type": "code",
   "execution_count": 11,
   "id": "optional-martial",
   "metadata": {},
   "outputs": [
    {
     "name": "stdout",
     "output_type": "stream",
     "text": [
      "+-------+------------------+\n",
      "|summary|   passenger_count|\n",
      "+-------+------------------+\n",
      "|  count|          14166672|\n",
      "|   mean|1.4253783104458126|\n",
      "| stddev|  1.04432704905968|\n",
      "|    min|                 0|\n",
      "|    max|                 9|\n",
      "+-------+------------------+\n",
      "\n"
     ]
    }
   ],
   "source": [
    "# 승객수 확인\n",
    "comb_df.select(\"passenger_count\").describe().show()"
   ]
  },
  {
   "cell_type": "markdown",
   "id": "essential-music",
   "metadata": {},
   "source": [
    "count 가 줄어들었다"
   ]
  },
  {
   "cell_type": "code",
   "execution_count": 12,
   "id": "heard-youth",
   "metadata": {},
   "outputs": [
    {
     "name": "stdout",
     "output_type": "stream",
     "text": [
      "+-------------------+-------+\n",
      "|              month|  trips|\n",
      "+-------------------+-------+\n",
      "|2029-05-01 00:00:00|      1|\n",
      "|2021-12-01 00:00:00|      5|\n",
      "|2021-11-01 00:00:00|      5|\n",
      "|2021-10-01 00:00:00|      3|\n",
      "|2021-09-01 00:00:00|      3|\n",
      "|2021-08-01 00:00:00|     36|\n",
      "|2021-07-01 00:00:00|2821430|\n",
      "|2021-06-01 00:00:00|2834204|\n",
      "|2021-05-01 00:00:00|2507075|\n",
      "|2021-04-01 00:00:00|2171215|\n",
      "|2021-03-01 00:00:00|1925130|\n",
      "|2021-02-01 00:00:00|1371688|\n",
      "|2021-01-01 00:00:00|1369749|\n",
      "|2020-12-01 00:00:00|     16|\n",
      "|2009-01-01 00:00:00|    111|\n",
      "|2008-12-01 00:00:00|     26|\n",
      "|2004-04-01 00:00:00|      1|\n",
      "|2003-01-01 00:00:00|      1|\n",
      "|2002-12-01 00:00:00|      1|\n",
      "+-------------------+-------+\n",
      "\n"
     ]
    }
   ],
   "source": [
    "# 월별 운행수 확인\n",
    "query = \"\"\"\n",
    "select\n",
    "    DATE_TRUNC('MM',c.pickup_date) as month,\n",
    "    count(*) as trips\n",
    "from \n",
    "    comb c\n",
    "group by month\n",
    "order by month desc\n",
    "\"\"\"\n",
    "\n",
    "spark.sql(query).show()"
   ]
  },
  {
   "cell_type": "markdown",
   "id": "complex-picnic",
   "metadata": {},
   "source": [
    "올바른 데이터만 사용하기 위해서 데이터를 정제.`Data Warehouse -> Data Mart`"
   ]
  },
  {
   "cell_type": "code",
   "execution_count": 13,
   "id": "chubby-aluminum",
   "metadata": {},
   "outputs": [],
   "source": [
    "# Data Cleaning\n",
    "query = \"\"\"\n",
    "SELECT *\n",
    "FROM comb c\n",
    "WHERE c.total_amount < 5000\n",
    "  AND c.total_amount > 0\n",
    "  AND c.passenger_count < 4\n",
    "  AND c.pickup_date >= '2021-01-01'\n",
    "  AND c.pickup_date < '2021-08-01'\n",
    "\"\"\"\n",
    "\n",
    "cleaned_df = spark.sql(query)\n",
    "cleaned_df.createOrReplaceTempView(\"cleaned\")"
   ]
  },
  {
   "cell_type": "code",
   "execution_count": 14,
   "id": "jewish-study",
   "metadata": {},
   "outputs": [
    {
     "name": "stdout",
     "output_type": "stream",
     "text": [
      "+-------+------------------+------------------+------------------+------------------+-----------------+------------------+------------------+-------------------+------------------+-------------------+--------------------+--------------------+\n",
      "|summary|         vendor_id|       pickup_time|      dropoff_time|   passenger_count|    trip_distance|       fare_amount|        tip_amount|       tolls_amount|      total_amount|       payment_type|         pickup_zone|        dropoff_zone|\n",
      "+-------+------------------+------------------+------------------+------------------+-----------------+------------------+------------------+-------------------+------------------+-------------------+--------------------+--------------------+\n",
      "|  count|          13297707|          13297707|          13297707|          13297707|         13297707|          13297707|          13297707|           13297707|          13297707|           13297707|            13297707|            13297707|\n",
      "|   mean|1.6708664132846363|14.196663906040342|14.282787927271972|1.2091025918979865|2.875799893169515|12.164512625371172|2.1888008992834247|0.27026417261239616| 18.07590845192304| 1.2470376283670561|                null|                null|\n",
      "| stddev|0.4698985905660522| 5.120952286677547| 5.192132949547949|0.5416731633666698|57.67291934091949|11.075254702214442| 2.600648250556131| 1.5471159400996444|13.356642354352674|0.45325209711546177|                null|                null|\n",
      "|    min|                 1|                 0|                 0|                 0|              0.0|              -0.8|               0.0|                0.0|              0.01|                  1|Allerton/Pelham G...|Allerton/Pelham G...|\n",
      "|    max|                 2|                23|                23|                 3|        131652.15|            4969.0|           1140.44|             956.55|            4973.3|                  5|      Yorkville West|      Yorkville West|\n",
      "+-------+------------------+------------------+------------------+------------------+-----------------+------------------+------------------+-------------------+------------------+-------------------+--------------------+--------------------+\n",
      "\n"
     ]
    }
   ],
   "source": [
    "cleaned_df.describe().show()"
   ]
  },
  {
   "cell_type": "markdown",
   "id": "olympic-particle",
   "metadata": {},
   "source": [
    "# 시각화"
   ]
  },
  {
   "cell_type": "code",
   "execution_count": 15,
   "id": "super-disaster",
   "metadata": {},
   "outputs": [],
   "source": [
    "import numpy as np\n",
    "import pandas as pd\n",
    "import seaborn as sns\n",
    "import matplotlib.pyplot as plt\n",
    "import matplotlib.dates as mdates"
   ]
  },
  {
   "cell_type": "code",
   "execution_count": 16,
   "id": "broke-syntax",
   "metadata": {},
   "outputs": [
    {
     "data": {
      "text/html": [
       "<div>\n",
       "<style scoped>\n",
       "    .dataframe tbody tr th:only-of-type {\n",
       "        vertical-align: middle;\n",
       "    }\n",
       "\n",
       "    .dataframe tbody tr th {\n",
       "        vertical-align: top;\n",
       "    }\n",
       "\n",
       "    .dataframe thead th {\n",
       "        text-align: right;\n",
       "    }\n",
       "</style>\n",
       "<table border=\"1\" class=\"dataframe\">\n",
       "  <thead>\n",
       "    <tr style=\"text-align: right;\">\n",
       "      <th></th>\n",
       "      <th>pickup_date</th>\n",
       "      <th>trips</th>\n",
       "    </tr>\n",
       "  </thead>\n",
       "  <tbody>\n",
       "    <tr>\n",
       "      <th>0</th>\n",
       "      <td>2021-06-22</td>\n",
       "      <td>89161</td>\n",
       "    </tr>\n",
       "    <tr>\n",
       "      <th>1</th>\n",
       "      <td>2021-01-27</td>\n",
       "      <td>46044</td>\n",
       "    </tr>\n",
       "    <tr>\n",
       "      <th>2</th>\n",
       "      <td>2021-05-12</td>\n",
       "      <td>77679</td>\n",
       "    </tr>\n",
       "    <tr>\n",
       "      <th>3</th>\n",
       "      <td>2021-07-20</td>\n",
       "      <td>82829</td>\n",
       "    </tr>\n",
       "    <tr>\n",
       "      <th>4</th>\n",
       "      <td>2021-07-30</td>\n",
       "      <td>88229</td>\n",
       "    </tr>\n",
       "    <tr>\n",
       "      <th>...</th>\n",
       "      <td>...</td>\n",
       "      <td>...</td>\n",
       "    </tr>\n",
       "    <tr>\n",
       "      <th>207</th>\n",
       "      <td>2021-02-04</td>\n",
       "      <td>51088</td>\n",
       "    </tr>\n",
       "    <tr>\n",
       "      <th>208</th>\n",
       "      <td>2021-06-15</td>\n",
       "      <td>88271</td>\n",
       "    </tr>\n",
       "    <tr>\n",
       "      <th>209</th>\n",
       "      <td>2021-04-10</td>\n",
       "      <td>61471</td>\n",
       "    </tr>\n",
       "    <tr>\n",
       "      <th>210</th>\n",
       "      <td>2021-04-12</td>\n",
       "      <td>61791</td>\n",
       "    </tr>\n",
       "    <tr>\n",
       "      <th>211</th>\n",
       "      <td>2021-05-13</td>\n",
       "      <td>74221</td>\n",
       "    </tr>\n",
       "  </tbody>\n",
       "</table>\n",
       "<p>212 rows × 2 columns</p>\n",
       "</div>"
      ],
      "text/plain": [
       "    pickup_date  trips\n",
       "0    2021-06-22  89161\n",
       "1    2021-01-27  46044\n",
       "2    2021-05-12  77679\n",
       "3    2021-07-20  82829\n",
       "4    2021-07-30  88229\n",
       "..          ...    ...\n",
       "207  2021-02-04  51088\n",
       "208  2021-06-15  88271\n",
       "209  2021-04-10  61471\n",
       "210  2021-04-12  61791\n",
       "211  2021-05-13  74221\n",
       "\n",
       "[212 rows x 2 columns]"
      ]
     },
     "execution_count": 16,
     "metadata": {},
     "output_type": "execute_result"
    }
   ],
   "source": [
    "query = \"\"\"\n",
    "SELECT c.pickup_date,\n",
    "       COUNT(*) as trips\n",
    "FROM cleaned c\n",
    "GROUP BY c.pickup_date\n",
    "\"\"\"\n",
    "\n",
    "pd_df = spark.sql(query).toPandas()\n",
    "pd_df"
   ]
  },
  {
   "cell_type": "code",
   "execution_count": 17,
   "id": "understanding-blade",
   "metadata": {},
   "outputs": [
    {
     "data": {
      "image/png": "[encoded data removed]",
      "text/plain": [
       "<Figure size 1152x432 with 1 Axes>"
      ]
     },
     "metadata": {
      "needs_background": "light"
     },
     "output_type": "display_data"
    }
   ],
   "source": [
    "plt.subplots(figsize = (16,6))\n",
    "sns.lineplot(x='pickup_date', y='trips', data = pd_df)\n",
    "plt.show()"
   ]
  },
  {
   "cell_type": "markdown",
   "id": "verified-finding",
   "metadata": {},
   "source": [
    "### 요일별 trips 의 중간값 확인"
   ]
  },
  {
   "cell_type": "code",
   "execution_count": 18,
   "id": "split-milwaukee",
   "metadata": {},
   "outputs": [
    {
     "data": {
      "text/html": [
       "<div>\n",
       "<style scoped>\n",
       "    .dataframe tbody tr th:only-of-type {\n",
       "        vertical-align: middle;\n",
       "    }\n",
       "\n",
       "    .dataframe tbody tr th {\n",
       "        vertical-align: top;\n",
       "    }\n",
       "\n",
       "    .dataframe thead th {\n",
       "        text-align: right;\n",
       "    }\n",
       "</style>\n",
       "<table border=\"1\" class=\"dataframe\">\n",
       "  <thead>\n",
       "    <tr style=\"text-align: right;\">\n",
       "      <th></th>\n",
       "      <th>pickup_date</th>\n",
       "      <th>day_of_week</th>\n",
       "      <th>trips</th>\n",
       "    </tr>\n",
       "  </thead>\n",
       "  <tbody>\n",
       "    <tr>\n",
       "      <th>0</th>\n",
       "      <td>2021-04-23</td>\n",
       "      <td>Friday</td>\n",
       "      <td>75142</td>\n",
       "    </tr>\n",
       "    <tr>\n",
       "      <th>1</th>\n",
       "      <td>2021-05-26</td>\n",
       "      <td>Wednesday</td>\n",
       "      <td>84364</td>\n",
       "    </tr>\n",
       "    <tr>\n",
       "      <th>2</th>\n",
       "      <td>2021-03-24</td>\n",
       "      <td>Wednesday</td>\n",
       "      <td>60382</td>\n",
       "    </tr>\n",
       "    <tr>\n",
       "      <th>3</th>\n",
       "      <td>2021-02-15</td>\n",
       "      <td>Monday</td>\n",
       "      <td>35671</td>\n",
       "    </tr>\n",
       "    <tr>\n",
       "      <th>4</th>\n",
       "      <td>2021-07-30</td>\n",
       "      <td>Friday</td>\n",
       "      <td>88229</td>\n",
       "    </tr>\n",
       "    <tr>\n",
       "      <th>...</th>\n",
       "      <td>...</td>\n",
       "      <td>...</td>\n",
       "      <td>...</td>\n",
       "    </tr>\n",
       "    <tr>\n",
       "      <th>207</th>\n",
       "      <td>2021-01-16</td>\n",
       "      <td>Saturday</td>\n",
       "      <td>34037</td>\n",
       "    </tr>\n",
       "    <tr>\n",
       "      <th>208</th>\n",
       "      <td>2021-06-04</td>\n",
       "      <td>Friday</td>\n",
       "      <td>86134</td>\n",
       "    </tr>\n",
       "    <tr>\n",
       "      <th>209</th>\n",
       "      <td>2021-05-08</td>\n",
       "      <td>Saturday</td>\n",
       "      <td>71310</td>\n",
       "    </tr>\n",
       "    <tr>\n",
       "      <th>210</th>\n",
       "      <td>2021-01-03</td>\n",
       "      <td>Sunday</td>\n",
       "      <td>22942</td>\n",
       "    </tr>\n",
       "    <tr>\n",
       "      <th>211</th>\n",
       "      <td>2021-01-29</td>\n",
       "      <td>Friday</td>\n",
       "      <td>47675</td>\n",
       "    </tr>\n",
       "  </tbody>\n",
       "</table>\n",
       "<p>212 rows × 3 columns</p>\n",
       "</div>"
      ],
      "text/plain": [
       "    pickup_date day_of_week  trips\n",
       "0    2021-04-23      Friday  75142\n",
       "1    2021-05-26   Wednesday  84364\n",
       "2    2021-03-24   Wednesday  60382\n",
       "3    2021-02-15      Monday  35671\n",
       "4    2021-07-30      Friday  88229\n",
       "..          ...         ...    ...\n",
       "207  2021-01-16    Saturday  34037\n",
       "208  2021-06-04      Friday  86134\n",
       "209  2021-05-08    Saturday  71310\n",
       "210  2021-01-03      Sunday  22942\n",
       "211  2021-01-29      Friday  47675\n",
       "\n",
       "[212 rows x 3 columns]"
      ]
     },
     "execution_count": 18,
     "metadata": {},
     "output_type": "execute_result"
    }
   ],
   "source": [
    "# DATE_FORMAT(c.pickup_date, 'EEEE') -> pickup_date의 요일 알아내기\n",
    "query = \"\"\"\n",
    "SELECT c.pickup_date,\n",
    "       DATE_FORMAT(c.pickup_date, 'EEEE') as day_of_week,\n",
    "       COUNT(*) AS trips\n",
    "FROM cleaned c\n",
    "GROUP BY c.pickup_date, day_of_week\n",
    "\"\"\"\n",
    "\n",
    "pd_df2 = spark.sql(query).toPandas()\n",
    "pd_df2"
   ]
  },
  {
   "cell_type": "code",
   "execution_count": 19,
   "id": "loved-print",
   "metadata": {},
   "outputs": [
    {
     "data": {
      "text/html": [
       "<div>\n",
       "<style scoped>\n",
       "    .dataframe tbody tr th:only-of-type {\n",
       "        vertical-align: middle;\n",
       "    }\n",
       "\n",
       "    .dataframe tbody tr th {\n",
       "        vertical-align: top;\n",
       "    }\n",
       "\n",
       "    .dataframe thead th {\n",
       "        text-align: right;\n",
       "    }\n",
       "</style>\n",
       "<table border=\"1\" class=\"dataframe\">\n",
       "  <thead>\n",
       "    <tr style=\"text-align: right;\">\n",
       "      <th></th>\n",
       "      <th>day_of_week</th>\n",
       "      <th>trips</th>\n",
       "    </tr>\n",
       "  </thead>\n",
       "  <tbody>\n",
       "    <tr>\n",
       "      <th>0</th>\n",
       "      <td>Friday</td>\n",
       "      <td>73094.0</td>\n",
       "    </tr>\n",
       "    <tr>\n",
       "      <th>1</th>\n",
       "      <td>Monday</td>\n",
       "      <td>56066.5</td>\n",
       "    </tr>\n",
       "    <tr>\n",
       "      <th>2</th>\n",
       "      <td>Saturday</td>\n",
       "      <td>61471.0</td>\n",
       "    </tr>\n",
       "    <tr>\n",
       "      <th>3</th>\n",
       "      <td>Sunday</td>\n",
       "      <td>43131.5</td>\n",
       "    </tr>\n",
       "    <tr>\n",
       "      <th>4</th>\n",
       "      <td>Thursday</td>\n",
       "      <td>72194.5</td>\n",
       "    </tr>\n",
       "    <tr>\n",
       "      <th>5</th>\n",
       "      <td>Tuesday</td>\n",
       "      <td>66822.0</td>\n",
       "    </tr>\n",
       "    <tr>\n",
       "      <th>6</th>\n",
       "      <td>Wednesday</td>\n",
       "      <td>69399.0</td>\n",
       "    </tr>\n",
       "  </tbody>\n",
       "</table>\n",
       "</div>"
      ],
      "text/plain": [
       "  day_of_week    trips\n",
       "0      Friday  73094.0\n",
       "1      Monday  56066.5\n",
       "2    Saturday  61471.0\n",
       "3      Sunday  43131.5\n",
       "4    Thursday  72194.5\n",
       "5     Tuesday  66822.0\n",
       "6   Wednesday  69399.0"
      ]
     },
     "execution_count": 19,
     "metadata": {},
     "output_type": "execute_result"
    }
   ],
   "source": [
    "data = pd_df2.groupby(\"day_of_week\")[\"trips\"].median().to_frame()\n",
    "data = data.reset_index()\n",
    "data"
   ]
  },
  {
   "cell_type": "code",
   "execution_count": 20,
   "id": "clear-mexican",
   "metadata": {},
   "outputs": [
    {
     "data": {
      "text/html": [
       "<div>\n",
       "<style scoped>\n",
       "    .dataframe tbody tr th:only-of-type {\n",
       "        vertical-align: middle;\n",
       "    }\n",
       "\n",
       "    .dataframe tbody tr th {\n",
       "        vertical-align: top;\n",
       "    }\n",
       "\n",
       "    .dataframe thead th {\n",
       "        text-align: right;\n",
       "    }\n",
       "</style>\n",
       "<table border=\"1\" class=\"dataframe\">\n",
       "  <thead>\n",
       "    <tr style=\"text-align: right;\">\n",
       "      <th></th>\n",
       "      <th>day_of_week</th>\n",
       "      <th>trips</th>\n",
       "      <th>sort_dow</th>\n",
       "    </tr>\n",
       "  </thead>\n",
       "  <tbody>\n",
       "    <tr>\n",
       "      <th>0</th>\n",
       "      <td>Friday</td>\n",
       "      <td>73094.0</td>\n",
       "      <td>5</td>\n",
       "    </tr>\n",
       "    <tr>\n",
       "      <th>1</th>\n",
       "      <td>Monday</td>\n",
       "      <td>56066.5</td>\n",
       "      <td>1</td>\n",
       "    </tr>\n",
       "    <tr>\n",
       "      <th>2</th>\n",
       "      <td>Saturday</td>\n",
       "      <td>61471.0</td>\n",
       "      <td>6</td>\n",
       "    </tr>\n",
       "    <tr>\n",
       "      <th>3</th>\n",
       "      <td>Sunday</td>\n",
       "      <td>43131.5</td>\n",
       "      <td>0</td>\n",
       "    </tr>\n",
       "    <tr>\n",
       "      <th>4</th>\n",
       "      <td>Thursday</td>\n",
       "      <td>72194.5</td>\n",
       "      <td>4</td>\n",
       "    </tr>\n",
       "    <tr>\n",
       "      <th>5</th>\n",
       "      <td>Tuesday</td>\n",
       "      <td>66822.0</td>\n",
       "      <td>2</td>\n",
       "    </tr>\n",
       "    <tr>\n",
       "      <th>6</th>\n",
       "      <td>Wednesday</td>\n",
       "      <td>69399.0</td>\n",
       "      <td>3</td>\n",
       "    </tr>\n",
       "  </tbody>\n",
       "</table>\n",
       "</div>"
      ],
      "text/plain": [
       "  day_of_week    trips  sort_dow\n",
       "0      Friday  73094.0         5\n",
       "1      Monday  56066.5         1\n",
       "2    Saturday  61471.0         6\n",
       "3      Sunday  43131.5         0\n",
       "4    Thursday  72194.5         4\n",
       "5     Tuesday  66822.0         2\n",
       "6   Wednesday  69399.0         3"
      ]
     },
     "execution_count": 20,
     "metadata": {},
     "output_type": "execute_result"
    }
   ],
   "source": [
    "# 요일 정렬(일월화수목금토)\n",
    "data[\"sort_dow\"] = data[\"day_of_week\"].replace({\n",
    "    \"Sunday\": 0,\n",
    "    \"Monday\": 1,\n",
    "    \"Tuesday\": 2,\n",
    "    \"Wednesday\": 3,\n",
    "    \"Thursday\": 4,\n",
    "    \"Friday\": 5,\n",
    "    \"Saturday\": 6,\n",
    "})\n",
    "data"
   ]
  },
  {
   "cell_type": "code",
   "execution_count": 21,
   "id": "diagnostic-gauge",
   "metadata": {},
   "outputs": [
    {
     "data": {
      "text/html": [
       "<div>\n",
       "<style scoped>\n",
       "    .dataframe tbody tr th:only-of-type {\n",
       "        vertical-align: middle;\n",
       "    }\n",
       "\n",
       "    .dataframe tbody tr th {\n",
       "        vertical-align: top;\n",
       "    }\n",
       "\n",
       "    .dataframe thead th {\n",
       "        text-align: right;\n",
       "    }\n",
       "</style>\n",
       "<table border=\"1\" class=\"dataframe\">\n",
       "  <thead>\n",
       "    <tr style=\"text-align: right;\">\n",
       "      <th></th>\n",
       "      <th>day_of_week</th>\n",
       "      <th>trips</th>\n",
       "      <th>sort_dow</th>\n",
       "    </tr>\n",
       "  </thead>\n",
       "  <tbody>\n",
       "    <tr>\n",
       "      <th>3</th>\n",
       "      <td>Sunday</td>\n",
       "      <td>43131.5</td>\n",
       "      <td>0</td>\n",
       "    </tr>\n",
       "    <tr>\n",
       "      <th>1</th>\n",
       "      <td>Monday</td>\n",
       "      <td>56066.5</td>\n",
       "      <td>1</td>\n",
       "    </tr>\n",
       "    <tr>\n",
       "      <th>5</th>\n",
       "      <td>Tuesday</td>\n",
       "      <td>66822.0</td>\n",
       "      <td>2</td>\n",
       "    </tr>\n",
       "    <tr>\n",
       "      <th>6</th>\n",
       "      <td>Wednesday</td>\n",
       "      <td>69399.0</td>\n",
       "      <td>3</td>\n",
       "    </tr>\n",
       "    <tr>\n",
       "      <th>4</th>\n",
       "      <td>Thursday</td>\n",
       "      <td>72194.5</td>\n",
       "      <td>4</td>\n",
       "    </tr>\n",
       "    <tr>\n",
       "      <th>0</th>\n",
       "      <td>Friday</td>\n",
       "      <td>73094.0</td>\n",
       "      <td>5</td>\n",
       "    </tr>\n",
       "    <tr>\n",
       "      <th>2</th>\n",
       "      <td>Saturday</td>\n",
       "      <td>61471.0</td>\n",
       "      <td>6</td>\n",
       "    </tr>\n",
       "  </tbody>\n",
       "</table>\n",
       "</div>"
      ],
      "text/plain": [
       "  day_of_week    trips  sort_dow\n",
       "3      Sunday  43131.5         0\n",
       "1      Monday  56066.5         1\n",
       "5     Tuesday  66822.0         2\n",
       "6   Wednesday  69399.0         3\n",
       "4    Thursday  72194.5         4\n",
       "0      Friday  73094.0         5\n",
       "2    Saturday  61471.0         6"
      ]
     },
     "execution_count": 21,
     "metadata": {},
     "output_type": "execute_result"
    }
   ],
   "source": [
    "data = data.sort_values(by='sort_dow')\n",
    "data"
   ]
  },
  {
   "cell_type": "code",
   "execution_count": 22,
   "id": "contrary-medication",
   "metadata": {},
   "outputs": [
    {
     "data": {
      "image/png": "[encoded data removed]",
      "text/plain": [
       "<Figure size 864x360 with 1 Axes>"
      ]
     },
     "metadata": {
      "needs_background": "light"
     },
     "output_type": "display_data"
    }
   ],
   "source": [
    "plt.figure(figsize=(12, 5))\n",
    "sns.barplot(\n",
    "    x='day_of_week',\n",
    "    y='trips',\n",
    "    data=data\n",
    ")\n",
    "plt.show()"
   ]
  },
  {
   "cell_type": "markdown",
   "id": "italian-london",
   "metadata": {},
   "source": [
    "UDF 활용해보기"
   ]
  },
  {
   "cell_type": "code",
   "execution_count": 23,
   "id": "unlike-divorce",
   "metadata": {},
   "outputs": [
    {
     "data": {
      "text/plain": [
       "<function __main__.get_weekday(date)>"
      ]
     },
     "execution_count": 23,
     "metadata": {},
     "output_type": "execute_result"
    }
   ],
   "source": [
    "def get_weekday(date):\n",
    "    import calendar\n",
    "    return calendar.day_name[date.weekday()]\n",
    "\n",
    "spark.udf.register(\"get_weekday\", get_weekday)"
   ]
  },
  {
   "cell_type": "code",
   "execution_count": 24,
   "id": "compact-rings",
   "metadata": {},
   "outputs": [
    {
     "data": {
      "text/html": [
       "<div>\n",
       "<style scoped>\n",
       "    .dataframe tbody tr th:only-of-type {\n",
       "        vertical-align: middle;\n",
       "    }\n",
       "\n",
       "    .dataframe tbody tr th {\n",
       "        vertical-align: top;\n",
       "    }\n",
       "\n",
       "    .dataframe thead th {\n",
       "        text-align: right;\n",
       "    }\n",
       "</style>\n",
       "<table border=\"1\" class=\"dataframe\">\n",
       "  <thead>\n",
       "    <tr style=\"text-align: right;\">\n",
       "      <th></th>\n",
       "      <th>pickup_date</th>\n",
       "      <th>day_of_week</th>\n",
       "      <th>trips</th>\n",
       "    </tr>\n",
       "  </thead>\n",
       "  <tbody>\n",
       "    <tr>\n",
       "      <th>0</th>\n",
       "      <td>2021-04-23</td>\n",
       "      <td>Friday</td>\n",
       "      <td>75142</td>\n",
       "    </tr>\n",
       "    <tr>\n",
       "      <th>1</th>\n",
       "      <td>2021-05-26</td>\n",
       "      <td>Wednesday</td>\n",
       "      <td>84364</td>\n",
       "    </tr>\n",
       "    <tr>\n",
       "      <th>2</th>\n",
       "      <td>2021-03-24</td>\n",
       "      <td>Wednesday</td>\n",
       "      <td>60382</td>\n",
       "    </tr>\n",
       "    <tr>\n",
       "      <th>3</th>\n",
       "      <td>2021-02-15</td>\n",
       "      <td>Monday</td>\n",
       "      <td>35671</td>\n",
       "    </tr>\n",
       "    <tr>\n",
       "      <th>4</th>\n",
       "      <td>2021-07-30</td>\n",
       "      <td>Friday</td>\n",
       "      <td>88229</td>\n",
       "    </tr>\n",
       "    <tr>\n",
       "      <th>...</th>\n",
       "      <td>...</td>\n",
       "      <td>...</td>\n",
       "      <td>...</td>\n",
       "    </tr>\n",
       "    <tr>\n",
       "      <th>207</th>\n",
       "      <td>2021-01-16</td>\n",
       "      <td>Saturday</td>\n",
       "      <td>34037</td>\n",
       "    </tr>\n",
       "    <tr>\n",
       "      <th>208</th>\n",
       "      <td>2021-06-04</td>\n",
       "      <td>Friday</td>\n",
       "      <td>86134</td>\n",
       "    </tr>\n",
       "    <tr>\n",
       "      <th>209</th>\n",
       "      <td>2021-05-08</td>\n",
       "      <td>Saturday</td>\n",
       "      <td>71310</td>\n",
       "    </tr>\n",
       "    <tr>\n",
       "      <th>210</th>\n",
       "      <td>2021-01-03</td>\n",
       "      <td>Sunday</td>\n",
       "      <td>22942</td>\n",
       "    </tr>\n",
       "    <tr>\n",
       "      <th>211</th>\n",
       "      <td>2021-01-29</td>\n",
       "      <td>Friday</td>\n",
       "      <td>47675</td>\n",
       "    </tr>\n",
       "  </tbody>\n",
       "</table>\n",
       "<p>212 rows × 3 columns</p>\n",
       "</div>"
      ],
      "text/plain": [
       "    pickup_date day_of_week  trips\n",
       "0    2021-04-23      Friday  75142\n",
       "1    2021-05-26   Wednesday  84364\n",
       "2    2021-03-24   Wednesday  60382\n",
       "3    2021-02-15      Monday  35671\n",
       "4    2021-07-30      Friday  88229\n",
       "..          ...         ...    ...\n",
       "207  2021-01-16    Saturday  34037\n",
       "208  2021-06-04      Friday  86134\n",
       "209  2021-05-08    Saturday  71310\n",
       "210  2021-01-03      Sunday  22942\n",
       "211  2021-01-29      Friday  47675\n",
       "\n",
       "[212 rows x 3 columns]"
      ]
     },
     "execution_count": 24,
     "metadata": {},
     "output_type": "execute_result"
    }
   ],
   "source": [
    "query = \"\"\"\n",
    "SELECT c.pickup_date,\n",
    "       get_weekday(c.pickup_date) as day_of_week,\n",
    "       COUNT(*) AS trips\n",
    "FROM cleaned c\n",
    "GROUP BY c.pickup_date, day_of_week\n",
    "\"\"\"\n",
    "\n",
    "pd_df3 = spark.sql(query).toPandas()\n",
    "pd_df3"
   ]
  },
  {
   "cell_type": "markdown",
   "id": "clear-limit",
   "metadata": {},
   "source": [
    "## 결제 유형 별 분석하기"
   ]
  },
  {
   "cell_type": "code",
   "execution_count": 25,
   "id": "loving-wallet",
   "metadata": {},
   "outputs": [],
   "source": [
    "payment_type_to_string = {\n",
    "    1: \"Credit Card\",\n",
    "    2: \"Cash\",\n",
    "    3: \"No Charge\",\n",
    "    4: \"Dispute\",\n",
    "    5: \"Unknown\",\n",
    "    6: \"Voided Trip\",\n",
    "}\n",
    "\n",
    "def parse_payment_type(payment_type):\n",
    "    return payment_type_to_string[payment_type]"
   ]
  },
  {
   "cell_type": "code",
   "execution_count": 26,
   "id": "assisted-class",
   "metadata": {},
   "outputs": [
    {
     "data": {
      "text/plain": [
       "<function __main__.parse_payment_type(payment_type)>"
      ]
     },
     "execution_count": 26,
     "metadata": {},
     "output_type": "execute_result"
    }
   ],
   "source": [
    "spark.udf.register(\"parse_payment_type\", parse_payment_type)"
   ]
  },
  {
   "cell_type": "code",
   "execution_count": 27,
   "id": "unknown-documentary",
   "metadata": {},
   "outputs": [
    {
     "name": "stdout",
     "output_type": "stream",
     "text": [
      "+--------------------------------+--------+------------------+------------------+\n",
      "|parse_payment_type(payment_type)|   trips|  mean_fare_amount|   std_fare_amount|\n",
      "+--------------------------------+--------+------------------+------------------+\n",
      "|                     Credit Card|10118303|12.218953262221572|10.838864815920585|\n",
      "|                       No Charge|   58553|11.930844534011921|15.037771181522627|\n",
      "|                         Unknown|       1|              17.8|              null|\n",
      "|                         Dispute|   23537|12.682116667374768|14.832463920441812|\n",
      "|                            Cash| 3097313|11.987148124842387|11.698050602195234|\n",
      "+--------------------------------+--------+------------------+------------------+\n",
      "\n"
     ]
    }
   ],
   "source": [
    "query = \"\"\"\n",
    "select parse_payment_type(c.payment_type),\n",
    "       count(*) as trips,\n",
    "       mean(c.fare_amount) as mean_fare_amount,\n",
    "       std(c.fare_amount) as std_fare_amount\n",
    "from cleaned c\n",
    "\n",
    "group by c.payment_type\n",
    "\"\"\"\n",
    "\n",
    "spark.sql(query).show()"
   ]
  },
  {
   "cell_type": "code",
   "execution_count": 28,
   "id": "strange-transmission",
   "metadata": {},
   "outputs": [],
   "source": [
    "spark.stop()"
   ]
  },
  {
   "cell_type": "code",
   "execution_count": null,
   "id": "valued-demographic",
   "metadata": {},
   "outputs": [],
   "source": []
  }
 ],
 "metadata": {
  "kernelspec": {
   "display_name": "Python 3",
   "language": "python",
   "name": "python3"
  },
  "language_info": {
   "codemirror_mode": {
    "name": "ipython",
    "version": 3
   },
   "file_extension": ".py",
   "mimetype": "text/x-python",
   "name": "python",
   "nbconvert_exporter": "python",
   "pygments_lexer": "ipython3",
   "version": "3.7.10"
  }
 },
 "nbformat": 4,
 "nbformat_minor": 5
}
